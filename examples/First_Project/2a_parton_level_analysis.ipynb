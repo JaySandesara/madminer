{
 "cells": [
  {
   "cell_type": "markdown",
   "metadata": {},
   "source": [
    "# Part 2: Analyzing events \n",
    "\n"
   ]
  },
  {
   "cell_type": "markdown",
   "metadata": {},
   "source": [
    "## 0. Preparations"
   ]
  },
  {
   "cell_type": "code",
   "execution_count": 1,
   "metadata": {},
   "outputs": [],
   "source": [
    "from __future__ import absolute_import, division, print_function, unicode_literals\n",
    "\n",
    "import logging\n",
    "import numpy as np\n",
    "import matplotlib\n",
    "from matplotlib import pyplot as plt\n",
    "%matplotlib inline\n",
    "\n",
    "from madminer.core import MadMiner\n",
    "from madminer.lhe import LHEReader\n",
    "from madminer.sampling import combine_and_shuffle\n",
    "from madminer.plotting import plot_distributions\n"
   ]
  },
  {
   "cell_type": "code",
   "execution_count": 2,
   "metadata": {},
   "outputs": [],
   "source": [
    "# MadMiner output\n",
    "logging.basicConfig(\n",
    "    format='%(asctime)-5.5s %(name)-20.20s %(levelname)-7.7s %(message)s',\n",
    "    datefmt='%H:%M',\n",
    "    level=logging.INFO\n",
    ")\n",
    "\n",
    "# Output of all other modules (e.g. matplotlib)\n",
    "for key in logging.Logger.manager.loggerDict:\n",
    "    if \"madminer\" not in key:\n",
    "        logging.getLogger(key).setLevel(logging.WARNING)"
   ]
  },
  {
   "cell_type": "code",
   "execution_count": 3,
   "metadata": {},
   "outputs": [],
   "source": [
    "mg_dir = '/home/jay/ATLAS/EventGeneration/MG5_aMC_v2_6_7'"
   ]
  },
  {
   "cell_type": "markdown",
   "metadata": {},
   "source": [
    "## 1. Generate events"
   ]
  },
  {
   "cell_type": "code",
   "execution_count": 4,
   "metadata": {},
   "outputs": [
    {
     "name": "stderr",
     "output_type": "stream",
     "text": [
      "16:37 madminer.core        INFO    Found 2 parameters:\n",
      "16:37 madminer.core        INFO       cpG (LHA: dim6 8, maximal power in squared ME: (2,), range: (-10.0, 10.0))\n",
      "16:37 madminer.core        INFO       ctp (LHA: dim62f 19, maximal power in squared ME: (2,), range: (-10.0, 10.0))\n",
      "16:37 madminer.core        INFO    Found 6 benchmarks:\n",
      "16:37 madminer.core        INFO       sm: cpG = 0.00e+00, ctp = 0.00e+00\n",
      "16:37 madminer.core        INFO       w: cpG = 5.00, ctp = 0.00e+00\n",
      "16:37 madminer.core        INFO       neg_w: cpG = -5.00e+00, ctp = 0.00e+00\n",
      "16:37 madminer.core        INFO       ww: cpG = 0.00e+00, ctp = 5.00\n",
      "16:37 madminer.core        INFO       neg_ww: cpG = 0.00e+00, ctp = -5.00e+00\n",
      "16:37 madminer.core        INFO       morphing_basis_vector_5: cpG = 7.41, ctp = 6.67\n",
      "16:37 madminer.core        INFO    Found morphing setup with 6 components\n",
      "16:37 madminer.core        INFO    Did not find systematics setup.\n"
     ]
    }
   ],
   "source": [
    "miner = MadMiner()\n",
    "miner.load(\"data/setup.h5\")"
   ]
  },
  {
   "cell_type": "markdown",
   "metadata": {},
   "source": [
    "This is about as far as I can run error-free. In the next step I try to run event generation for gg->H->4l process using the SMEFT@NLO model. This is just one of the process I will be including of course, but I wanted to start with this to see if the setup works. It didn't work. I generated all the cards using MadGraph v2.6.7. In the more serious run, I will also be running parton-showering."
   ]
  },
  {
   "cell_type": "code",
   "execution_count": 7,
   "metadata": {},
   "outputs": [
    {
     "name": "stderr",
     "output_type": "stream",
     "text": [
      "16:54 madminer.utils.inter INFO    Generating MadGraph process folder from cards/proc_card_mg5.dat at ./mg_processes/signal1\n",
      "17:01 madminer.core        INFO    Run 0\n",
      "17:01 madminer.core        INFO      Sampling from benchmark: sm\n",
      "17:01 madminer.core        INFO      Original run card:       cards/run_card.dat\n",
      "17:01 madminer.core        INFO      Original Pythia8 card:   None\n",
      "17:01 madminer.core        INFO      Copied run card:         /madminer/cards/run_card_0.dat\n",
      "17:01 madminer.core        INFO      Copied Pythia8 card:     None\n",
      "17:01 madminer.core        INFO      Param card:              /madminer/cards/param_card_0.dat\n",
      "17:01 madminer.core        INFO      Reweight card:           /madminer/cards/reweight_card_0.dat\n",
      "17:01 madminer.core        INFO      Log file:                run_0.log\n",
      "17:01 madminer.core        INFO    Creating param and reweight cards in ./mg_processes/signal1//madminer/cards/param_card_0.dat, ./mg_processes/signal1//madminer/cards/reweight_card_0.dat\n",
      "17:01 madminer.utils.inter INFO    Starting MadGraph and Pythia in ./mg_processes/signal1\n",
      "17:01 madminer.core        INFO    Finished running MadGraph! Please check that events were succesfully generated in the following folders:\n",
      "\n",
      "./mg_processes/signal1/Events/run_01\n",
      "\n",
      "\n"
     ]
    }
   ],
   "source": [
    "miner.run(\n",
    "    sample_benchmark='sm',\n",
    "    mg_directory=mg_dir,\n",
    "    mg_process_directory='./mg_processes/signal1',\n",
    "    proc_card_file='cards/proc_card_mg5.dat',\n",
    "    param_card_template_file='cards/param_card.dat',\n",
    "    run_card_file='cards/run_card.dat',\n",
    "    log_directory='logs/signal',\n",
    "    #initial_command=\"source /eos/user/j/jsandesa/virtual/venv/bin/activate\"\n",
    "    initial_command=\"source ~/.bashrc\"\n",
    ")"
   ]
  },
  {
   "cell_type": "code",
   "execution_count": 6,
   "metadata": {},
   "outputs": [],
   "source": [
    "additional_benchmarks = ['w', 'ww', 'neg_w', 'neg_ww']"
   ]
  },
  {
   "cell_type": "code",
   "execution_count": 7,
   "metadata": {},
   "outputs": [
    {
     "name": "stderr",
     "output_type": "stream",
     "text": [
      "14:00 madminer.utils.inter INFO    Generating MadGraph process folder from cards/proc_card_signal.dat at ./mg_processes/signal2\n",
      "14:07 madminer.core        INFO    Run 0\n",
      "14:07 madminer.core        INFO      Sampling from benchmark: w\n",
      "14:07 madminer.core        INFO      Original run card:       cards/run_card_1k.dat\n",
      "14:07 madminer.core        INFO      Original Pythia8 card:   None\n",
      "14:07 madminer.core        INFO      Copied run card:         /madminer/cards/run_card_0.dat\n",
      "14:07 madminer.core        INFO      Copied Pythia8 card:     None\n",
      "14:07 madminer.core        INFO      Param card:              /madminer/cards/param_card_0.dat\n",
      "14:07 madminer.core        INFO      Reweight card:           /madminer/cards/reweight_card_0.dat\n",
      "14:07 madminer.core        INFO      Log file:                run_0.log\n",
      "14:07 madminer.core        INFO    Creating param and reweight cards in ./mg_processes/signal2//madminer/cards/param_card_0.dat, ./mg_processes/signal2//madminer/cards/reweight_card_0.dat\n",
      "14:07 madminer.utils.inter INFO    Starting MadGraph and Pythia in ./mg_processes/signal2\n",
      "14:08 madminer.core        INFO    Run 1\n",
      "14:08 madminer.core        INFO      Sampling from benchmark: ww\n",
      "14:08 madminer.core        INFO      Original run card:       cards/run_card_1k.dat\n",
      "14:08 madminer.core        INFO      Original Pythia8 card:   None\n",
      "14:08 madminer.core        INFO      Copied run card:         /madminer/cards/run_card_1.dat\n",
      "14:08 madminer.core        INFO      Copied Pythia8 card:     None\n",
      "14:08 madminer.core        INFO      Param card:              /madminer/cards/param_card_1.dat\n",
      "14:08 madminer.core        INFO      Reweight card:           /madminer/cards/reweight_card_1.dat\n",
      "14:08 madminer.core        INFO      Log file:                run_1.log\n",
      "14:08 madminer.core        INFO    Creating param and reweight cards in ./mg_processes/signal2//madminer/cards/param_card_1.dat, ./mg_processes/signal2//madminer/cards/reweight_card_1.dat\n",
      "14:08 madminer.utils.inter INFO    Starting MadGraph and Pythia in ./mg_processes/signal2\n",
      "14:09 madminer.core        INFO    Run 2\n",
      "14:09 madminer.core        INFO      Sampling from benchmark: neg_w\n",
      "14:09 madminer.core        INFO      Original run card:       cards/run_card_1k.dat\n",
      "14:09 madminer.core        INFO      Original Pythia8 card:   None\n",
      "14:09 madminer.core        INFO      Copied run card:         /madminer/cards/run_card_2.dat\n",
      "14:09 madminer.core        INFO      Copied Pythia8 card:     None\n",
      "14:09 madminer.core        INFO      Param card:              /madminer/cards/param_card_2.dat\n",
      "14:09 madminer.core        INFO      Reweight card:           /madminer/cards/reweight_card_2.dat\n",
      "14:09 madminer.core        INFO      Log file:                run_2.log\n",
      "14:09 madminer.core        INFO    Creating param and reweight cards in ./mg_processes/signal2//madminer/cards/param_card_2.dat, ./mg_processes/signal2//madminer/cards/reweight_card_2.dat\n",
      "14:09 madminer.utils.inter INFO    Starting MadGraph and Pythia in ./mg_processes/signal2\n",
      "14:09 madminer.core        INFO    Run 3\n",
      "14:09 madminer.core        INFO      Sampling from benchmark: neg_ww\n",
      "14:09 madminer.core        INFO      Original run card:       cards/run_card_1k.dat\n",
      "14:09 madminer.core        INFO      Original Pythia8 card:   None\n",
      "14:09 madminer.core        INFO      Copied run card:         /madminer/cards/run_card_3.dat\n",
      "14:09 madminer.core        INFO      Copied Pythia8 card:     None\n",
      "14:09 madminer.core        INFO      Param card:              /madminer/cards/param_card_3.dat\n",
      "14:09 madminer.core        INFO      Reweight card:           /madminer/cards/reweight_card_3.dat\n",
      "14:09 madminer.core        INFO      Log file:                run_3.log\n",
      "14:09 madminer.core        INFO    Creating param and reweight cards in ./mg_processes/signal2//madminer/cards/param_card_3.dat, ./mg_processes/signal2//madminer/cards/reweight_card_3.dat\n",
      "14:09 madminer.utils.inter INFO    Starting MadGraph and Pythia in ./mg_processes/signal2\n",
      "14:10 madminer.core        INFO    Finished running MadGraph! Please check that events were succesfully generated in the following folders:\n",
      "\n",
      "./mg_processes/signal2/Events/run_01\n",
      "./mg_processes/signal2/Events/run_02\n",
      "./mg_processes/signal2/Events/run_03\n",
      "./mg_processes/signal2/Events/run_04\n",
      "\n",
      "\n"
     ]
    }
   ],
   "source": [
    "\n",
    "miner.run_multiple(\n",
    "    sample_benchmarks=additional_benchmarks,\n",
    "    mg_directory=mg_dir,\n",
    "    mg_process_directory='./mg_processes/signal2',\n",
    "    proc_card_file='cards/proc_card_mg5.dat',\n",
    "    param_card_template_file='cards/param_card.dat',\n",
    "    run_card_files=['cards/run_card.dat'],\n",
    "    log_directory='logs/signal',\n",
    "    #initial_command=\"source /eos/user/j/jsandesa/virtual/venv/bin/activate\"\n",
    ")\n"
   ]
  }
 ],
 "metadata": {
  "kernelspec": {
   "display_name": "Python 2",
   "language": "python",
   "name": "python2"
  },
  "language_info": {
   "codemirror_mode": {
    "name": "ipython",
    "version": 2
   },
   "file_extension": ".py",
   "mimetype": "text/x-python",
   "name": "python",
   "nbconvert_exporter": "python",
   "pygments_lexer": "ipython2",
   "version": "2.7.15+"
  }
 },
 "nbformat": 4,
 "nbformat_minor": 2
}
